{
 "cells": [
  {
   "cell_type": "markdown",
   "id": "6cdd6385",
   "metadata": {},
   "source": [
    "1. Which tech category from the collected sample has the most claps?\n",
    "   \n",
    "   Programming category with the article \"goodbye,oop\" has got the most claps as well as the most comments"
   ]
  },
  {
   "cell_type": "markdown",
   "id": "c28d98b4",
   "metadata": {},
   "source": [
    "2. Which publication has topped in each category in terms of claps?\n",
    "\n",
    "\n",
    "\n",
    "\n",
    "\n",
    "| | category   | publication    | claps   | statement   |\n",
    "|---:|:-------------|:-----------|:------|:------|\n",
    "| 1 | Programming   | na     | 164000  |Goodbye, Object oriented Programming     |\n",
    "| 2 | Cryptography  | na    |108000  | Why block chain is hard     |\n",
    "| 3 | Machine Learning  | na    |86000  | Machine learning is fun     |\n",
    "| 4 | Web dev  | Tech x Talent    |60000  | A guide to becoming full stack developer...     |\n",
    "| 5 | Android dev  | Aritra's musings    |38000 | What 2 years of android dev have taugh...     |\n",
    "| 6 | Ios dev  | na    |37000  | Progressive web apps on ios are here     |\n",
    "| 7 | data science  | Towards data science    |22000  | how to learn data science if you are broke     |\n"
   ]
  },
  {
   "cell_type": "markdown",
   "id": "13a27597",
   "metadata": {},
   "source": [
    "3. Which year has saw the most articles in each category?\n",
    "\n",
    "\n",
    " | | category #  | Year    | no of articles  \n",
    "|---:|:-------------|:-----------|:-----\n",
    "| 1 | Programming   | 2020     | 218  \n",
    "| 2 | Cryptography  | 2018    |414  \n",
    "| 3 | Machine Learning  | 2017   |329  \n",
    "| 4 | Web dev  | 2021    |433   \n",
    "| 5 | Android dev  | 2018    |291 \n",
    "| 6 | Ios dev  | 2018   |247  \n",
    "| 7 | data science  | 2020    |297  "
   ]
  },
  {
   "cell_type": "markdown",
   "id": "b3f31160",
   "metadata": {},
   "source": [
    "4.Does the no. of articles written has increased with years?\n",
    "\n",
    "* Android dev ,  Ios dev ,  Machine learning, cryptography  saw <b> increase in the no of the articles from 2016 to 2018 </b> then the no of article began decreasing. There is a considerable decrease in the no. of articles written in cryptography which may be caused due to the complexity of the topic and not many people chose to write about it.\n",
    "\n",
    "* However <b> web development </b> saw a steep increase right from 2010 till current year, which is evitable because of the advent of lot of frontend as well as backend frameworks along with languages like javascript, python getting popular in recent years.\n",
    "\n",
    "* <b> programming</b> and <b> data science </b> ,the numbers have massively increased from <b> 50-60 articles </b> a year in 2016 to <b> 150-200 articles </b> in recent years.Its almost <b> 4x </b> increase in the no."
   ]
  },
  {
   "cell_type": "markdown",
   "id": "c8c98488",
   "metadata": {},
   "source": [
    "5.  Does read time has any relationship with the no. of claps in this sample?\n",
    "\n",
    "There happens to be no relationship between the no. of claps and the read time of an article as the scatter plot shows no correlation between them."
   ]
  },
  {
   "cell_type": "code",
   "execution_count": 2,
   "id": "9a533b75",
   "metadata": {},
   "outputs": [],
   "source": [
    "# importing libraries\n",
    "\n",
    "import pandas as pd\n",
    "import numpy as np\n",
    "import matplotlib.pyplot as plt\n",
    "import matplotlib.cm as cm\n",
    "import seaborn as sns\n",
    "import scipy.stats\n",
    "%matplotlib inline"
   ]
  },
  {
   "cell_type": "code",
   "execution_count": 3,
   "id": "ad45a68b",
   "metadata": {},
   "outputs": [],
   "source": [
    "# reading csv file\n",
    "\n",
    "pd.set_option(\"max_rows\", None)\n",
    "df = pd.read_csv(\"cleaned_blogs_data.csv\")\n",
    "df1 = df"
   ]
  },
  {
   "cell_type": "code",
   "execution_count": 4,
   "id": "2c7820c7",
   "metadata": {},
   "outputs": [
    {
     "data": {
      "text/plain": [
       "(6776, 7)"
      ]
     },
     "execution_count": 4,
     "metadata": {},
     "output_type": "execute_result"
    }
   ],
   "source": [
    "# see the shape of the data\n",
    "\n",
    "df.shape"
   ]
  },
  {
   "cell_type": "code",
   "execution_count": 5,
   "id": "f52dc29b",
   "metadata": {},
   "outputs": [
    {
     "name": "stdout",
     "output_type": "stream",
     "text": [
      "<class 'pandas.core.frame.DataFrame'>\n",
      "RangeIndex: 6776 entries, 0 to 6775\n",
      "Data columns (total 7 columns):\n",
      " #   Column       Non-Null Count  Dtype \n",
      "---  ------       --------------  ----- \n",
      " 0   Statement    6776 non-null   object\n",
      " 1   Publication  6776 non-null   object\n",
      " 2   Read_Time    6776 non-null   int64 \n",
      " 3   Year         6776 non-null   int64 \n",
      " 4   Claps        6776 non-null   int64 \n",
      " 5   comments     6776 non-null   int64 \n",
      " 6   tag          6776 non-null   object\n",
      "dtypes: int64(4), object(3)\n",
      "memory usage: 370.7+ KB\n"
     ]
    }
   ],
   "source": [
    "# check the overall info and data types of all the features\n",
    "\n",
    "df.info()"
   ]
  },
  {
   "cell_type": "markdown",
   "id": "00f9b1d0",
   "metadata": {},
   "source": [
    "the numerical data are read_time,year,claps and comments where as categorical data are statement publication and tag(all are nominal categorical variables i.e they do no show any order)"
   ]
  },
  {
   "cell_type": "code",
   "execution_count": 6,
   "id": "2ff3b0fe",
   "metadata": {},
   "outputs": [
    {
     "data": {
      "text/html": [
       "<div>\n",
       "<style scoped>\n",
       "    .dataframe tbody tr th:only-of-type {\n",
       "        vertical-align: middle;\n",
       "    }\n",
       "\n",
       "    .dataframe tbody tr th {\n",
       "        vertical-align: top;\n",
       "    }\n",
       "\n",
       "    .dataframe thead th {\n",
       "        text-align: right;\n",
       "    }\n",
       "</style>\n",
       "<table border=\"1\" class=\"dataframe\">\n",
       "  <thead>\n",
       "    <tr style=\"text-align: right;\">\n",
       "      <th></th>\n",
       "      <th>Statement</th>\n",
       "      <th>Publication</th>\n",
       "      <th>tag</th>\n",
       "    </tr>\n",
       "  </thead>\n",
       "  <tbody>\n",
       "    <tr>\n",
       "      <th>count</th>\n",
       "      <td>6776</td>\n",
       "      <td>6776</td>\n",
       "      <td>6776</td>\n",
       "    </tr>\n",
       "    <tr>\n",
       "      <th>unique</th>\n",
       "      <td>6505</td>\n",
       "      <td>888</td>\n",
       "      <td>7</td>\n",
       "    </tr>\n",
       "    <tr>\n",
       "      <th>top</th>\n",
       "      <td>abc</td>\n",
       "      <td>bcd</td>\n",
       "      <td>Machine Learning</td>\n",
       "    </tr>\n",
       "    <tr>\n",
       "      <th>freq</th>\n",
       "      <td>32</td>\n",
       "      <td>1363</td>\n",
       "      <td>994</td>\n",
       "    </tr>\n",
       "  </tbody>\n",
       "</table>\n",
       "</div>"
      ],
      "text/plain": [
       "       Statement Publication               tag\n",
       "count       6776        6776              6776\n",
       "unique      6505         888                 7\n",
       "top          abc         bcd  Machine Learning\n",
       "freq          32        1363               994"
      ]
     },
     "execution_count": 6,
     "metadata": {},
     "output_type": "execute_result"
    }
   ],
   "source": [
    "# The above summary stats were for numerical data only. Lets see the summary stats of categorical features as well\n",
    "\n",
    "df.describe(include = 'object')"
   ]
  },
  {
   "cell_type": "markdown",
   "id": "5e052eb7",
   "metadata": {},
   "source": [
    " The above statistic shows there are 6505 unique values in statement column.This is because i have added some dummy values like \"abc\" to the places where the statement of the blog is absent but have other info like publiation,claps etc. which will be helpful in further analysis\n",
    "\n"
   ]
  },
  {
   "cell_type": "code",
   "execution_count": 7,
   "id": "ec565881",
   "metadata": {},
   "outputs": [
    {
     "name": "stderr",
     "output_type": "stream",
     "text": [
      "/home/ana27/anaconda3/lib/python3.8/site-packages/seaborn/distributions.py:2557: FutureWarning: `distplot` is a deprecated function and will be removed in a future version. Please adapt your code to use either `displot` (a figure-level function with similar flexibility) or `histplot` (an axes-level function for histograms).\n",
      "  warnings.warn(msg, FutureWarning)\n"
     ]
    },
    {
     "data": {
      "text/plain": [
       "Text(0.5, 1.0, 'Distribution of reading time')"
      ]
     },
     "execution_count": 7,
     "metadata": {},
     "output_type": "execute_result"
    },
    {
     "data": {
      "image/png": "[encoded data removed]",
      "text/plain": [
       "<Figure size 1008x504 with 1 Axes>"
      ]
     },
     "metadata": {
      "needs_background": "light"
     },
     "output_type": "display_data"
    }
   ],
   "source": [
    "# Visualising the numerical data with histogram\n",
    "\n",
    "plt.figure(figsize=(14,7)) # Make it 14x7 inch\n",
    "plt.style.use('seaborn-whitegrid') # nice and clean grid\n",
    "sns.distplot(df[\"Read_Time\"] , kde= True, color = 'red',hist_kws=dict(edgecolor=\"black\", linewidth=2)).set_title(\"Distribution of reading time\")"
   ]
  },
  {
   "cell_type": "markdown",
   "id": "4d470eb2",
   "metadata": {},
   "source": [
    "####  The distribution of Read_TIme of the blogs is unimodal.The data distribution is skewed to the right ,centered at about 6mins, a range of about roughly 80 mins.Moreover, outliers are present on the higher end. "
   ]
  },
  {
   "cell_type": "code",
   "execution_count": 8,
   "id": "b123666c",
   "metadata": {},
   "outputs": [
    {
     "data": {
      "text/plain": [
       "6.970484061393153"
      ]
     },
     "execution_count": 8,
     "metadata": {},
     "output_type": "execute_result"
    }
   ],
   "source": [
    "df[\"Read_Time\"].mean()"
   ]
  },
  {
   "cell_type": "code",
   "execution_count": 9,
   "id": "023f09f3",
   "metadata": {},
   "outputs": [
    {
     "data": {
      "text/plain": [
       "6.0"
      ]
     },
     "execution_count": 9,
     "metadata": {},
     "output_type": "execute_result"
    }
   ],
   "source": [
    "df[\"Read_Time\"].median()"
   ]
  },
  {
   "cell_type": "markdown",
   "id": "d4301629",
   "metadata": {},
   "source": [
    "Since the data is skewed to the right, the mean has been pushed to the right as well for which the mean > median which is evident from above.The mean for read_time is 6.97 and that of median is 6.0 which is .97 less than mean"
   ]
  },
  {
   "cell_type": "code",
   "execution_count": 10,
   "id": "439670df",
   "metadata": {},
   "outputs": [
    {
     "data": {
      "text/plain": [
       "count    6776.000000\n",
       "mean        6.970484\n",
       "std         4.701356\n",
       "min         0.000000\n",
       "25%         4.000000\n",
       "50%         6.000000\n",
       "75%         9.000000\n",
       "max        78.000000\n",
       "Name: Read_Time, dtype: float64"
      ]
     },
     "execution_count": 10,
     "metadata": {},
     "output_type": "execute_result"
    }
   ],
   "source": [
    "# lets check the 5-point summary\n",
    "df[\"Read_Time\"].describe()"
   ]
  },
  {
   "cell_type": "markdown",
   "id": "f35e84b2",
   "metadata": {},
   "source": [
    "1. 25% of the blogs has reading time with 4min or less.The median which is the 50th percentile is 6mins i.e, 50% of the blogs has read time with 6 mins or less.The maximum is 78mins which is the outlier.Its considerably high\n",
    "\n",
    "2. The deviation is 4.70 ie on an average a blog will fall 4mins above or below the mean value"
   ]
  },
  {
   "cell_type": "code",
   "execution_count": 11,
   "id": "f8257863",
   "metadata": {},
   "outputs": [
    {
     "name": "stderr",
     "output_type": "stream",
     "text": [
      "/home/ana27/anaconda3/lib/python3.8/site-packages/seaborn/_decorators.py:36: FutureWarning: Pass the following variable as a keyword arg: x. From version 0.12, the only valid positional argument will be `data`, and passing other arguments without an explicit keyword will result in an error or misinterpretation.\n",
      "  warnings.warn(\n"
     ]
    },
    {
     "data": {
      "image/png": "[encoded data removed]",
      "text/plain": [
       "<Figure size 432x288 with 1 Axes>"
      ]
     },
     "metadata": {},
     "output_type": "display_data"
    }
   ],
   "source": [
    "# lets check the outliers in it.We will use box plot\n",
    "\n",
    "sns.boxplot(df[\"Read_Time\"]).set_title(\"Boxplot of Rt\")\n",
    "plt.show()"
   ]
  },
  {
   "cell_type": "markdown",
   "id": "10e82c1c",
   "metadata": {},
   "source": [
    "The outlier was not so visible in histogram but here its clearly visible.There are lots of data points above the upper whisker which are outliers acounting for the right skewness of the distribution"
   ]
  },
  {
   "cell_type": "code",
   "execution_count": 12,
   "id": "3f16de3f",
   "metadata": {},
   "outputs": [
    {
     "data": {
      "text/html": [
       "<div>\n",
       "<style scoped>\n",
       "    .dataframe tbody tr th:only-of-type {\n",
       "        vertical-align: middle;\n",
       "    }\n",
       "\n",
       "    .dataframe tbody tr th {\n",
       "        vertical-align: top;\n",
       "    }\n",
       "\n",
       "    .dataframe thead th {\n",
       "        text-align: right;\n",
       "    }\n",
       "</style>\n",
       "<table border=\"1\" class=\"dataframe\">\n",
       "  <thead>\n",
       "    <tr style=\"text-align: right;\">\n",
       "      <th></th>\n",
       "      <th>Statement</th>\n",
       "      <th>Publication</th>\n",
       "      <th>Read_Time</th>\n",
       "      <th>Year</th>\n",
       "      <th>Claps</th>\n",
       "      <th>comments</th>\n",
       "      <th>tag</th>\n",
       "    </tr>\n",
       "  </thead>\n",
       "  <tbody>\n",
       "    <tr>\n",
       "      <th>3445</th>\n",
       "      <td>SweetTalk Video + Podcast: Ultimate Gupta/Nels...</td>\n",
       "      <td>Sweetbridge</td>\n",
       "      <td>78</td>\n",
       "      <td>2017</td>\n",
       "      <td>1000</td>\n",
       "      <td>6</td>\n",
       "      <td>Crytography</td>\n",
       "    </tr>\n",
       "  </tbody>\n",
       "</table>\n",
       "</div>"
      ],
      "text/plain": [
       "                                              Statement  Publication  \\\n",
       "3445  SweetTalk Video + Podcast: Ultimate Gupta/Nels...  Sweetbridge   \n",
       "\n",
       "      Read_Time  Year  Claps  comments          tag  \n",
       "3445         78  2017   1000         6  Crytography  "
      ]
     },
     "execution_count": 12,
     "metadata": {},
     "output_type": "execute_result"
    }
   ],
   "source": [
    "# checking the read time\n",
    "df[df[\"Read_Time\"] > 70]"
   ]
  },
  {
   "cell_type": "markdown",
   "id": "1da669bc",
   "metadata": {},
   "source": [
    "When explored the reason for the maximum value,it is a conversation for the ages with almost 2 hours of deep thinking on the history and future of global trade, currency and finance, thus the highest time"
   ]
  },
  {
   "cell_type": "code",
   "execution_count": 13,
   "id": "b1b0a88a",
   "metadata": {},
   "outputs": [
    {
     "name": "stderr",
     "output_type": "stream",
     "text": [
      "/home/ana27/anaconda3/lib/python3.8/site-packages/seaborn/distributions.py:2557: FutureWarning: `distplot` is a deprecated function and will be removed in a future version. Please adapt your code to use either `displot` (a figure-level function with similar flexibility) or `histplot` (an axes-level function for histograms).\n",
      "  warnings.warn(msg, FutureWarning)\n"
     ]
    },
    {
     "data": {
      "text/plain": [
       "Text(0.5, 1.0, 'Distribution of claps')"
      ]
     },
     "execution_count": 13,
     "metadata": {},
     "output_type": "execute_result"
    },
    {
     "data": {
      "image/png": "[encoded data removed]",
      "text/plain": [
       "<Figure size 1008x504 with 1 Axes>"
      ]
     },
     "metadata": {},
     "output_type": "display_data"
    }
   ],
   "source": [
    "# lets check claps as well\n",
    "\n",
    "plt.figure(figsize=(14,7)) # Make it 14x7 inch\n",
    "plt.style.use('seaborn-whitegrid') # nice and clean grid\n",
    "sns.distplot(df[\"Claps\"] , kde= True, color = 'red',hist_kws=dict(edgecolor=\"black\", linewidth=2)).set_title(\"Distribution of claps\")"
   ]
  },
  {
   "cell_type": "markdown",
   "id": "c09afea3",
   "metadata": {},
   "source": [
    "### Its definnately right skewed and unimodal with lots of outliers.\n"
   ]
  },
  {
   "cell_type": "code",
   "execution_count": 14,
   "id": "b3b95f89",
   "metadata": {},
   "outputs": [
    {
     "data": {
      "text/plain": [
       "count      6776.000000\n",
       "mean       1725.492916\n",
       "std        4696.750911\n",
       "min           0.000000\n",
       "25%         311.000000\n",
       "50%         729.000000\n",
       "75%        1625.000000\n",
       "max      164000.000000\n",
       "Name: Claps, dtype: float64"
      ]
     },
     "execution_count": 14,
     "metadata": {},
     "output_type": "execute_result"
    }
   ],
   "source": [
    "#lets look at the decription of it for more accurate numericals\n",
    "\n",
    "df[\"Claps\"].describe()"
   ]
  },
  {
   "cell_type": "markdown",
   "id": "65347d3f",
   "metadata": {},
   "source": [
    "50% of the blogs have an average of approximately 720 claps or less.The maximum value is tremendously high, we need to verify and find the reason for it as well"
   ]
  },
  {
   "cell_type": "code",
   "execution_count": 15,
   "id": "17700739",
   "metadata": {},
   "outputs": [
    {
     "name": "stderr",
     "output_type": "stream",
     "text": [
      "/home/ana27/anaconda3/lib/python3.8/site-packages/seaborn/_decorators.py:36: FutureWarning: Pass the following variable as a keyword arg: x. From version 0.12, the only valid positional argument will be `data`, and passing other arguments without an explicit keyword will result in an error or misinterpretation.\n",
      "  warnings.warn(\n"
     ]
    },
    {
     "data": {
      "image/png": "[encoded data removed]",
      "text/plain": [
       "<Figure size 432x288 with 1 Axes>"
      ]
     },
     "metadata": {},
     "output_type": "display_data"
    }
   ],
   "source": [
    "sns.boxplot(df[\"Claps\"])\n",
    "plt.show()"
   ]
  },
  {
   "cell_type": "markdown",
   "id": "0c7d1f15",
   "metadata": {},
   "source": [
    "You can see the outliers after the right whiskers.This is responsible for the skewness"
   ]
  },
  {
   "cell_type": "code",
   "execution_count": 16,
   "id": "522666cd",
   "metadata": {},
   "outputs": [
    {
     "data": {
      "text/html": [
       "<div>\n",
       "<style scoped>\n",
       "    .dataframe tbody tr th:only-of-type {\n",
       "        vertical-align: middle;\n",
       "    }\n",
       "\n",
       "    .dataframe tbody tr th {\n",
       "        vertical-align: top;\n",
       "    }\n",
       "\n",
       "    .dataframe thead th {\n",
       "        text-align: right;\n",
       "    }\n",
       "</style>\n",
       "<table border=\"1\" class=\"dataframe\">\n",
       "  <thead>\n",
       "    <tr style=\"text-align: right;\">\n",
       "      <th></th>\n",
       "      <th>Statement</th>\n",
       "      <th>Publication</th>\n",
       "      <th>Read_Time</th>\n",
       "      <th>Year</th>\n",
       "      <th>Claps</th>\n",
       "      <th>comments</th>\n",
       "      <th>tag</th>\n",
       "    </tr>\n",
       "  </thead>\n",
       "  <tbody>\n",
       "    <tr>\n",
       "      <th>4922</th>\n",
       "      <td>Goodbye, Object Oriented Programming</td>\n",
       "      <td>bcd</td>\n",
       "      <td>10</td>\n",
       "      <td>2016</td>\n",
       "      <td>164000</td>\n",
       "      <td>1202</td>\n",
       "      <td>Programming</td>\n",
       "    </tr>\n",
       "  </tbody>\n",
       "</table>\n",
       "</div>"
      ],
      "text/plain": [
       "                                 Statement Publication  Read_Time  Year  \\\n",
       "4922  Goodbye, Object Oriented Programming         bcd         10  2016   \n",
       "\n",
       "       Claps  comments          tag  \n",
       "4922  164000      1202  Programming  "
      ]
     },
     "execution_count": 16,
     "metadata": {},
     "output_type": "execute_result"
    }
   ],
   "source": [
    "df[df[\"Claps\"] == 164000]"
   ]
  },
  {
   "cell_type": "markdown",
   "id": "a728f3d7",
   "metadata": {},
   "source": [
    "So basically this article speaks about OOP.When analysed it also has a top highlight which is a quote of Joe Armstrong\n",
    "\"The problem with object-oriented languages is they’ve got all this implicit environment that they carry around with them. You wanted a banana but what you got was a gorilla holding the banana and the entire jungle\"\n",
    "Moreover it is seen to have the maximum comments in the dataset.So this article tops in claps from the \"programming\" tag"
   ]
  },
  {
   "cell_type": "code",
   "execution_count": 17,
   "id": "8864e5cf",
   "metadata": {},
   "outputs": [
    {
     "name": "stderr",
     "output_type": "stream",
     "text": [
      "/home/ana27/anaconda3/lib/python3.8/site-packages/seaborn/distributions.py:2557: FutureWarning: `distplot` is a deprecated function and will be removed in a future version. Please adapt your code to use either `displot` (a figure-level function with similar flexibility) or `histplot` (an axes-level function for histograms).\n",
      "  warnings.warn(msg, FutureWarning)\n"
     ]
    },
    {
     "data": {
      "text/plain": [
       "Text(0.5, 1.0, 'Distribution of comments')"
      ]
     },
     "execution_count": 17,
     "metadata": {},
     "output_type": "execute_result"
    },
    {
     "data": {
      "image/png": "[encoded data removed]",
      "text/plain": [
       "<Figure size 1008x504 with 1 Axes>"
      ]
     },
     "metadata": {},
     "output_type": "display_data"
    }
   ],
   "source": [
    "# for comments\n",
    "\n",
    "plt.figure(figsize=(14,7)) # Make it 14x7 inch\n",
    "plt.style.use('seaborn-whitegrid') # nice and clean grid\n",
    "sns.distplot(df[\"comments\"] , kde= True, color = 'red',hist_kws=dict(edgecolor=\"black\", linewidth=2)).set_title(\"Distribution of comments\")"
   ]
  },
  {
   "cell_type": "markdown",
   "id": "cf1aea76",
   "metadata": {},
   "source": [
    "####  The distribution of comments is unimodal.There are outliers on the higher end"
   ]
  },
  {
   "cell_type": "code",
   "execution_count": 18,
   "id": "9aa1ba9f",
   "metadata": {},
   "outputs": [
    {
     "name": "stderr",
     "output_type": "stream",
     "text": [
      "/home/ana27/anaconda3/lib/python3.8/site-packages/seaborn/_decorators.py:36: FutureWarning: Pass the following variable as a keyword arg: x. From version 0.12, the only valid positional argument will be `data`, and passing other arguments without an explicit keyword will result in an error or misinterpretation.\n",
      "  warnings.warn(\n"
     ]
    },
    {
     "data": {
      "image/png": "[encoded data removed]",
      "text/plain": [
       "<Figure size 432x288 with 1 Axes>"
      ]
     },
     "metadata": {},
     "output_type": "display_data"
    }
   ],
   "source": [
    "sns.boxplot(df[\"comments\"])\n",
    "plt.show()"
   ]
  },
  {
   "cell_type": "markdown",
   "id": "ef48eb46",
   "metadata": {},
   "source": [
    "The outliers are at 1200 comments.We will check the blog which resulted in this."
   ]
  },
  {
   "cell_type": "code",
   "execution_count": 19,
   "id": "5d554be5",
   "metadata": {},
   "outputs": [
    {
     "data": {
      "text/plain": [
       "count    6776.000000\n",
       "mean        9.883117\n",
       "std        29.052571\n",
       "min         0.000000\n",
       "25%         1.000000\n",
       "50%         4.000000\n",
       "75%        10.000000\n",
       "max      1202.000000\n",
       "Name: comments, dtype: float64"
      ]
     },
     "execution_count": 19,
     "metadata": {},
     "output_type": "execute_result"
    }
   ],
   "source": [
    "df[\"comments\"].describe()"
   ]
  },
  {
   "cell_type": "markdown",
   "id": "c8527306",
   "metadata": {},
   "source": [
    "The average no of comments is approximately 5 or less.Most of the blogs have 0 to 10 comments approx.The mean is greater than median due to the right skewness"
   ]
  },
  {
   "cell_type": "code",
   "execution_count": 20,
   "id": "0a7ac935",
   "metadata": {},
   "outputs": [
    {
     "data": {
      "text/html": [
       "<div>\n",
       "<style scoped>\n",
       "    .dataframe tbody tr th:only-of-type {\n",
       "        vertical-align: middle;\n",
       "    }\n",
       "\n",
       "    .dataframe tbody tr th {\n",
       "        vertical-align: top;\n",
       "    }\n",
       "\n",
       "    .dataframe thead th {\n",
       "        text-align: right;\n",
       "    }\n",
       "</style>\n",
       "<table border=\"1\" class=\"dataframe\">\n",
       "  <thead>\n",
       "    <tr style=\"text-align: right;\">\n",
       "      <th></th>\n",
       "      <th>Statement</th>\n",
       "      <th>Publication</th>\n",
       "      <th>Read_Time</th>\n",
       "      <th>Year</th>\n",
       "      <th>Claps</th>\n",
       "      <th>comments</th>\n",
       "      <th>tag</th>\n",
       "    </tr>\n",
       "  </thead>\n",
       "  <tbody>\n",
       "    <tr>\n",
       "      <th>4922</th>\n",
       "      <td>Goodbye, Object Oriented Programming</td>\n",
       "      <td>bcd</td>\n",
       "      <td>10</td>\n",
       "      <td>2016</td>\n",
       "      <td>164000</td>\n",
       "      <td>1202</td>\n",
       "      <td>Programming</td>\n",
       "    </tr>\n",
       "  </tbody>\n",
       "</table>\n",
       "</div>"
      ],
      "text/plain": [
       "                                 Statement Publication  Read_Time  Year  \\\n",
       "4922  Goodbye, Object Oriented Programming         bcd         10  2016   \n",
       "\n",
       "       Claps  comments          tag  \n",
       "4922  164000      1202  Programming  "
      ]
     },
     "execution_count": 20,
     "metadata": {},
     "output_type": "execute_result"
    }
   ],
   "source": [
    "df[df[\"comments\"] == 1202]"
   ]
  },
  {
   "cell_type": "markdown",
   "id": "26944824",
   "metadata": {},
   "source": [
    "thats the same article which got the highest claps in my dataset as well as the comments are huge.Its evitable because the article majorly speaks about how people thinks oop to be such an exciting stuff but then cant cope up with it.So the comments are full of people commenting about good vs bad nature of oop."
   ]
  },
  {
   "cell_type": "code",
   "execution_count": 21,
   "id": "d2cb1cf8",
   "metadata": {},
   "outputs": [
    {
     "data": {
      "image/png": "[encoded data removed]",
      "text/plain": [
       "<Figure size 432x288 with 1 Axes>"
      ]
     },
     "metadata": {},
     "output_type": "display_data"
    }
   ],
   "source": [
    "# lets visualise the categorical variables using bar plot\n",
    "\n",
    "sns.countplot(x=\"tag\", data=df)\n",
    "plt.xticks(rotation=-270)\n",
    "plt.show()\n",
    "\n"
   ]
  },
  {
   "cell_type": "markdown",
   "id": "ca54925d",
   "metadata": {},
   "source": [
    "All categories have the same amount of blogs scraped apporox. around 950-990 with machine learning blogs being slightly higher htan all of them"
   ]
  },
  {
   "cell_type": "code",
   "execution_count": 22,
   "id": "23ea719c",
   "metadata": {},
   "outputs": [],
   "source": [
    "gk = df.sort_values([\"Claps\"], ascending = False)"
   ]
  },
  {
   "cell_type": "code",
   "execution_count": 23,
   "id": "4a840a3e",
   "metadata": {},
   "outputs": [
    {
     "data": {
      "text/html": [
       "<div>\n",
       "<style scoped>\n",
       "    .dataframe tbody tr th:only-of-type {\n",
       "        vertical-align: middle;\n",
       "    }\n",
       "\n",
       "    .dataframe tbody tr th {\n",
       "        vertical-align: top;\n",
       "    }\n",
       "\n",
       "    .dataframe thead th {\n",
       "        text-align: right;\n",
       "    }\n",
       "</style>\n",
       "<table border=\"1\" class=\"dataframe\">\n",
       "  <thead>\n",
       "    <tr style=\"text-align: right;\">\n",
       "      <th></th>\n",
       "      <th>Statement</th>\n",
       "      <th>Publication</th>\n",
       "      <th>Read_Time</th>\n",
       "      <th>Year</th>\n",
       "      <th>Claps</th>\n",
       "      <th>comments</th>\n",
       "      <th>tag</th>\n",
       "    </tr>\n",
       "  </thead>\n",
       "  <tbody>\n",
       "    <tr>\n",
       "      <th>4922</th>\n",
       "      <td>Goodbye, Object Oriented Programming</td>\n",
       "      <td>bcd</td>\n",
       "      <td>10</td>\n",
       "      <td>2016</td>\n",
       "      <td>164000</td>\n",
       "      <td>1202</td>\n",
       "      <td>Programming</td>\n",
       "    </tr>\n",
       "    <tr>\n",
       "      <th>2947</th>\n",
       "      <td>Why Blockchain is Hard</td>\n",
       "      <td>bcd</td>\n",
       "      <td>10</td>\n",
       "      <td>2018</td>\n",
       "      <td>108000</td>\n",
       "      <td>651</td>\n",
       "      <td>Crytography</td>\n",
       "    </tr>\n",
       "    <tr>\n",
       "      <th>2948</th>\n",
       "      <td>WTF is The Blockchain?</td>\n",
       "      <td>HackerNoon.com</td>\n",
       "      <td>16</td>\n",
       "      <td>2017</td>\n",
       "      <td>89000</td>\n",
       "      <td>417</td>\n",
       "      <td>Crytography</td>\n",
       "    </tr>\n",
       "    <tr>\n",
       "      <th>3928</th>\n",
       "      <td>Machine Learning is Fun!</td>\n",
       "      <td>bcd</td>\n",
       "      <td>15</td>\n",
       "      <td>2014</td>\n",
       "      <td>86000</td>\n",
       "      <td>283</td>\n",
       "      <td>Machine Learning</td>\n",
       "    </tr>\n",
       "    <tr>\n",
       "      <th>3105</th>\n",
       "      <td>Milestone Appointment for Caspian Crypto Tradi...</td>\n",
       "      <td>Caspian.tech Blog</td>\n",
       "      <td>2</td>\n",
       "      <td>2018</td>\n",
       "      <td>85000</td>\n",
       "      <td>27</td>\n",
       "      <td>Crytography</td>\n",
       "    </tr>\n",
       "  </tbody>\n",
       "</table>\n",
       "</div>"
      ],
      "text/plain": [
       "                                              Statement        Publication  \\\n",
       "4922               Goodbye, Object Oriented Programming                bcd   \n",
       "2947                             Why Blockchain is Hard                bcd   \n",
       "2948                             WTF is The Blockchain?     HackerNoon.com   \n",
       "3928                           Machine Learning is Fun!                bcd   \n",
       "3105  Milestone Appointment for Caspian Crypto Tradi...  Caspian.tech Blog   \n",
       "\n",
       "      Read_Time  Year   Claps  comments               tag  \n",
       "4922         10  2016  164000      1202       Programming  \n",
       "2947         10  2018  108000       651       Crytography  \n",
       "2948         16  2017   89000       417       Crytography  \n",
       "3928         15  2014   86000       283  Machine Learning  \n",
       "3105          2  2018   85000        27       Crytography  "
      ]
     },
     "execution_count": 23,
     "metadata": {},
     "output_type": "execute_result"
    }
   ],
   "source": [
    "gk.head()"
   ]
  },
  {
   "cell_type": "markdown",
   "id": "2b63294c",
   "metadata": {},
   "source": [
    "So the highest no of claps in each category and the corresponding publication are:\n",
    "\n",
    "\n",
    "| | category #  | publication    | claps   | statement   |\n",
    "|---:|:-------------|:-----------|:------|:------|\n",
    "| 1 | Programming   | na     | 164000  |Goodbye, Object oriented Programming     |\n",
    "| 2 | Cryptography  | na    |108000  | Why block chain is hard     |\n",
    "| 3 | Machine Learning  | na    |86000  | Machine learning is fun     |\n",
    "| 4 | Web dev  | Tech x Talent    |60000  | A guide to becoming full stack developer...     |\n",
    "| 5 | Android dev  | Aritra's musings    |38000 | What 2 years of android dev have taugh...     |\n",
    "| 6 | Ios dev  | na    |37000  | Progressive web apps on ios are here     |\n",
    "| 7 | data science  | Towards data science    |22000  | how to learn data science if you are broke     |"
   ]
  },
  {
   "cell_type": "code",
   "execution_count": 24,
   "id": "6eddc6f4",
   "metadata": {},
   "outputs": [],
   "source": [
    "blogs_grouped=df.groupby([df['Year'].rename('year'), df['tag'].rename('category')]).agg({'count'})"
   ]
  },
  {
   "cell_type": "code",
   "execution_count": 25,
   "id": "d649a44b",
   "metadata": {},
   "outputs": [
    {
     "data": {
      "text/html": [
       "<div>\n",
       "<style scoped>\n",
       "    .dataframe tbody tr th:only-of-type {\n",
       "        vertical-align: middle;\n",
       "    }\n",
       "\n",
       "    .dataframe tbody tr th {\n",
       "        vertical-align: top;\n",
       "    }\n",
       "\n",
       "    .dataframe thead tr th {\n",
       "        text-align: left;\n",
       "    }\n",
       "\n",
       "    .dataframe thead tr:last-of-type th {\n",
       "        text-align: right;\n",
       "    }\n",
       "</style>\n",
       "<table border=\"1\" class=\"dataframe\">\n",
       "  <thead>\n",
       "    <tr>\n",
       "      <th></th>\n",
       "      <th></th>\n",
       "      <th>Statement</th>\n",
       "      <th>Publication</th>\n",
       "      <th>Read_Time</th>\n",
       "      <th>Year</th>\n",
       "      <th>Claps</th>\n",
       "      <th>comments</th>\n",
       "      <th>tag</th>\n",
       "    </tr>\n",
       "    <tr>\n",
       "      <th></th>\n",
       "      <th></th>\n",
       "      <th>count</th>\n",
       "      <th>count</th>\n",
       "      <th>count</th>\n",
       "      <th>count</th>\n",
       "      <th>count</th>\n",
       "      <th>count</th>\n",
       "      <th>count</th>\n",
       "    </tr>\n",
       "    <tr>\n",
       "      <th>year</th>\n",
       "      <th>category</th>\n",
       "      <th></th>\n",
       "      <th></th>\n",
       "      <th></th>\n",
       "      <th></th>\n",
       "      <th></th>\n",
       "      <th></th>\n",
       "      <th></th>\n",
       "    </tr>\n",
       "  </thead>\n",
       "  <tbody>\n",
       "    <tr>\n",
       "      <th>2010</th>\n",
       "      <th>Web Development</th>\n",
       "      <td>1</td>\n",
       "      <td>1</td>\n",
       "      <td>1</td>\n",
       "      <td>1</td>\n",
       "      <td>1</td>\n",
       "      <td>1</td>\n",
       "      <td>1</td>\n",
       "    </tr>\n",
       "    <tr>\n",
       "      <th>2011</th>\n",
       "      <th>Ios Development</th>\n",
       "      <td>1</td>\n",
       "      <td>1</td>\n",
       "      <td>1</td>\n",
       "      <td>1</td>\n",
       "      <td>1</td>\n",
       "      <td>1</td>\n",
       "      <td>1</td>\n",
       "    </tr>\n",
       "    <tr>\n",
       "      <th rowspan=\"3\" valign=\"top\">2012</th>\n",
       "      <th>Android Development</th>\n",
       "      <td>2</td>\n",
       "      <td>2</td>\n",
       "      <td>2</td>\n",
       "      <td>2</td>\n",
       "      <td>2</td>\n",
       "      <td>2</td>\n",
       "      <td>2</td>\n",
       "    </tr>\n",
       "    <tr>\n",
       "      <th>Ios Development</th>\n",
       "      <td>4</td>\n",
       "      <td>4</td>\n",
       "      <td>4</td>\n",
       "      <td>4</td>\n",
       "      <td>4</td>\n",
       "      <td>4</td>\n",
       "      <td>4</td>\n",
       "    </tr>\n",
       "    <tr>\n",
       "      <th>Web Development</th>\n",
       "      <td>1</td>\n",
       "      <td>1</td>\n",
       "      <td>1</td>\n",
       "      <td>1</td>\n",
       "      <td>1</td>\n",
       "      <td>1</td>\n",
       "      <td>1</td>\n",
       "    </tr>\n",
       "    <tr>\n",
       "      <th>2013</th>\n",
       "      <th>Programming</th>\n",
       "      <td>2</td>\n",
       "      <td>2</td>\n",
       "      <td>2</td>\n",
       "      <td>2</td>\n",
       "      <td>2</td>\n",
       "      <td>2</td>\n",
       "      <td>2</td>\n",
       "    </tr>\n",
       "    <tr>\n",
       "      <th rowspan=\"6\" valign=\"top\">2014</th>\n",
       "      <th>Android Development</th>\n",
       "      <td>2</td>\n",
       "      <td>2</td>\n",
       "      <td>2</td>\n",
       "      <td>2</td>\n",
       "      <td>2</td>\n",
       "      <td>2</td>\n",
       "      <td>2</td>\n",
       "    </tr>\n",
       "    <tr>\n",
       "      <th>Data Science</th>\n",
       "      <td>1</td>\n",
       "      <td>1</td>\n",
       "      <td>1</td>\n",
       "      <td>1</td>\n",
       "      <td>1</td>\n",
       "      <td>1</td>\n",
       "      <td>1</td>\n",
       "    </tr>\n",
       "    <tr>\n",
       "      <th>Ios Development</th>\n",
       "      <td>2</td>\n",
       "      <td>2</td>\n",
       "      <td>2</td>\n",
       "      <td>2</td>\n",
       "      <td>2</td>\n",
       "      <td>2</td>\n",
       "      <td>2</td>\n",
       "    </tr>\n",
       "    <tr>\n",
       "      <th>Machine Learning</th>\n",
       "      <td>2</td>\n",
       "      <td>2</td>\n",
       "      <td>2</td>\n",
       "      <td>2</td>\n",
       "      <td>2</td>\n",
       "      <td>2</td>\n",
       "      <td>2</td>\n",
       "    </tr>\n",
       "    <tr>\n",
       "      <th>Programming</th>\n",
       "      <td>4</td>\n",
       "      <td>4</td>\n",
       "      <td>4</td>\n",
       "      <td>4</td>\n",
       "      <td>4</td>\n",
       "      <td>4</td>\n",
       "      <td>4</td>\n",
       "    </tr>\n",
       "    <tr>\n",
       "      <th>Web Development</th>\n",
       "      <td>6</td>\n",
       "      <td>6</td>\n",
       "      <td>6</td>\n",
       "      <td>6</td>\n",
       "      <td>6</td>\n",
       "      <td>6</td>\n",
       "      <td>6</td>\n",
       "    </tr>\n",
       "    <tr>\n",
       "      <th rowspan=\"7\" valign=\"top\">2015</th>\n",
       "      <th>Android Development</th>\n",
       "      <td>19</td>\n",
       "      <td>19</td>\n",
       "      <td>19</td>\n",
       "      <td>19</td>\n",
       "      <td>19</td>\n",
       "      <td>19</td>\n",
       "      <td>19</td>\n",
       "    </tr>\n",
       "    <tr>\n",
       "      <th>Crytography</th>\n",
       "      <td>3</td>\n",
       "      <td>3</td>\n",
       "      <td>3</td>\n",
       "      <td>3</td>\n",
       "      <td>3</td>\n",
       "      <td>3</td>\n",
       "      <td>3</td>\n",
       "    </tr>\n",
       "    <tr>\n",
       "      <th>Data Science</th>\n",
       "      <td>6</td>\n",
       "      <td>6</td>\n",
       "      <td>6</td>\n",
       "      <td>6</td>\n",
       "      <td>6</td>\n",
       "      <td>6</td>\n",
       "      <td>6</td>\n",
       "    </tr>\n",
       "    <tr>\n",
       "      <th>Ios Development</th>\n",
       "      <td>29</td>\n",
       "      <td>29</td>\n",
       "      <td>29</td>\n",
       "      <td>29</td>\n",
       "      <td>29</td>\n",
       "      <td>29</td>\n",
       "      <td>29</td>\n",
       "    </tr>\n",
       "    <tr>\n",
       "      <th>Machine Learning</th>\n",
       "      <td>8</td>\n",
       "      <td>8</td>\n",
       "      <td>8</td>\n",
       "      <td>8</td>\n",
       "      <td>8</td>\n",
       "      <td>8</td>\n",
       "      <td>8</td>\n",
       "    </tr>\n",
       "    <tr>\n",
       "      <th>Programming</th>\n",
       "      <td>12</td>\n",
       "      <td>12</td>\n",
       "      <td>12</td>\n",
       "      <td>12</td>\n",
       "      <td>12</td>\n",
       "      <td>12</td>\n",
       "      <td>12</td>\n",
       "    </tr>\n",
       "    <tr>\n",
       "      <th>Web Development</th>\n",
       "      <td>13</td>\n",
       "      <td>13</td>\n",
       "      <td>13</td>\n",
       "      <td>13</td>\n",
       "      <td>13</td>\n",
       "      <td>13</td>\n",
       "      <td>13</td>\n",
       "    </tr>\n",
       "    <tr>\n",
       "      <th rowspan=\"7\" valign=\"top\">2016</th>\n",
       "      <th>Android Development</th>\n",
       "      <td>122</td>\n",
       "      <td>122</td>\n",
       "      <td>122</td>\n",
       "      <td>122</td>\n",
       "      <td>122</td>\n",
       "      <td>122</td>\n",
       "      <td>122</td>\n",
       "    </tr>\n",
       "    <tr>\n",
       "      <th>Crytography</th>\n",
       "      <td>36</td>\n",
       "      <td>36</td>\n",
       "      <td>36</td>\n",
       "      <td>36</td>\n",
       "      <td>36</td>\n",
       "      <td>36</td>\n",
       "      <td>36</td>\n",
       "    </tr>\n",
       "    <tr>\n",
       "      <th>Data Science</th>\n",
       "      <td>17</td>\n",
       "      <td>17</td>\n",
       "      <td>17</td>\n",
       "      <td>17</td>\n",
       "      <td>17</td>\n",
       "      <td>17</td>\n",
       "      <td>17</td>\n",
       "    </tr>\n",
       "    <tr>\n",
       "      <th>Ios Development</th>\n",
       "      <td>78</td>\n",
       "      <td>78</td>\n",
       "      <td>78</td>\n",
       "      <td>78</td>\n",
       "      <td>78</td>\n",
       "      <td>78</td>\n",
       "      <td>78</td>\n",
       "    </tr>\n",
       "    <tr>\n",
       "      <th>Machine Learning</th>\n",
       "      <td>26</td>\n",
       "      <td>26</td>\n",
       "      <td>26</td>\n",
       "      <td>26</td>\n",
       "      <td>26</td>\n",
       "      <td>26</td>\n",
       "      <td>26</td>\n",
       "    </tr>\n",
       "    <tr>\n",
       "      <th>Programming</th>\n",
       "      <td>53</td>\n",
       "      <td>53</td>\n",
       "      <td>53</td>\n",
       "      <td>53</td>\n",
       "      <td>53</td>\n",
       "      <td>53</td>\n",
       "      <td>53</td>\n",
       "    </tr>\n",
       "    <tr>\n",
       "      <th>Web Development</th>\n",
       "      <td>31</td>\n",
       "      <td>31</td>\n",
       "      <td>31</td>\n",
       "      <td>31</td>\n",
       "      <td>31</td>\n",
       "      <td>31</td>\n",
       "      <td>31</td>\n",
       "    </tr>\n",
       "    <tr>\n",
       "      <th rowspan=\"7\" valign=\"top\">2017</th>\n",
       "      <th>Android Development</th>\n",
       "      <td>239</td>\n",
       "      <td>239</td>\n",
       "      <td>239</td>\n",
       "      <td>239</td>\n",
       "      <td>239</td>\n",
       "      <td>239</td>\n",
       "      <td>239</td>\n",
       "    </tr>\n",
       "    <tr>\n",
       "      <th>Crytography</th>\n",
       "      <td>170</td>\n",
       "      <td>170</td>\n",
       "      <td>170</td>\n",
       "      <td>170</td>\n",
       "      <td>170</td>\n",
       "      <td>170</td>\n",
       "      <td>170</td>\n",
       "    </tr>\n",
       "    <tr>\n",
       "      <th>Data Science</th>\n",
       "      <td>64</td>\n",
       "      <td>64</td>\n",
       "      <td>64</td>\n",
       "      <td>64</td>\n",
       "      <td>64</td>\n",
       "      <td>64</td>\n",
       "      <td>64</td>\n",
       "    </tr>\n",
       "    <tr>\n",
       "      <th>Ios Development</th>\n",
       "      <td>219</td>\n",
       "      <td>219</td>\n",
       "      <td>219</td>\n",
       "      <td>219</td>\n",
       "      <td>219</td>\n",
       "      <td>219</td>\n",
       "      <td>219</td>\n",
       "    </tr>\n",
       "    <tr>\n",
       "      <th>Machine Learning</th>\n",
       "      <td>151</td>\n",
       "      <td>151</td>\n",
       "      <td>151</td>\n",
       "      <td>151</td>\n",
       "      <td>151</td>\n",
       "      <td>151</td>\n",
       "      <td>151</td>\n",
       "    </tr>\n",
       "    <tr>\n",
       "      <th>Programming</th>\n",
       "      <td>125</td>\n",
       "      <td>125</td>\n",
       "      <td>125</td>\n",
       "      <td>125</td>\n",
       "      <td>125</td>\n",
       "      <td>125</td>\n",
       "      <td>125</td>\n",
       "    </tr>\n",
       "    <tr>\n",
       "      <th>Web Development</th>\n",
       "      <td>102</td>\n",
       "      <td>102</td>\n",
       "      <td>102</td>\n",
       "      <td>102</td>\n",
       "      <td>102</td>\n",
       "      <td>102</td>\n",
       "      <td>102</td>\n",
       "    </tr>\n",
       "    <tr>\n",
       "      <th rowspan=\"7\" valign=\"top\">2018</th>\n",
       "      <th>Android Development</th>\n",
       "      <td>291</td>\n",
       "      <td>291</td>\n",
       "      <td>291</td>\n",
       "      <td>291</td>\n",
       "      <td>291</td>\n",
       "      <td>291</td>\n",
       "      <td>291</td>\n",
       "    </tr>\n",
       "    <tr>\n",
       "      <th>Crytography</th>\n",
       "      <td>414</td>\n",
       "      <td>414</td>\n",
       "      <td>414</td>\n",
       "      <td>414</td>\n",
       "      <td>414</td>\n",
       "      <td>414</td>\n",
       "      <td>414</td>\n",
       "    </tr>\n",
       "    <tr>\n",
       "      <th>Data Science</th>\n",
       "      <td>222</td>\n",
       "      <td>222</td>\n",
       "      <td>222</td>\n",
       "      <td>222</td>\n",
       "      <td>222</td>\n",
       "      <td>222</td>\n",
       "      <td>222</td>\n",
       "    </tr>\n",
       "    <tr>\n",
       "      <th>Ios Development</th>\n",
       "      <td>247</td>\n",
       "      <td>247</td>\n",
       "      <td>247</td>\n",
       "      <td>247</td>\n",
       "      <td>247</td>\n",
       "      <td>247</td>\n",
       "      <td>247</td>\n",
       "    </tr>\n",
       "    <tr>\n",
       "      <th>Machine Learning</th>\n",
       "      <td>329</td>\n",
       "      <td>329</td>\n",
       "      <td>329</td>\n",
       "      <td>329</td>\n",
       "      <td>329</td>\n",
       "      <td>329</td>\n",
       "      <td>329</td>\n",
       "    </tr>\n",
       "    <tr>\n",
       "      <th>Programming</th>\n",
       "      <td>193</td>\n",
       "      <td>193</td>\n",
       "      <td>193</td>\n",
       "      <td>193</td>\n",
       "      <td>193</td>\n",
       "      <td>193</td>\n",
       "      <td>193</td>\n",
       "    </tr>\n",
       "    <tr>\n",
       "      <th>Web Development</th>\n",
       "      <td>109</td>\n",
       "      <td>109</td>\n",
       "      <td>109</td>\n",
       "      <td>109</td>\n",
       "      <td>109</td>\n",
       "      <td>109</td>\n",
       "      <td>109</td>\n",
       "    </tr>\n",
       "    <tr>\n",
       "      <th rowspan=\"7\" valign=\"top\">2019</th>\n",
       "      <th>Android Development</th>\n",
       "      <td>120</td>\n",
       "      <td>120</td>\n",
       "      <td>120</td>\n",
       "      <td>120</td>\n",
       "      <td>120</td>\n",
       "      <td>120</td>\n",
       "      <td>120</td>\n",
       "    </tr>\n",
       "    <tr>\n",
       "      <th>Crytography</th>\n",
       "      <td>141</td>\n",
       "      <td>141</td>\n",
       "      <td>141</td>\n",
       "      <td>141</td>\n",
       "      <td>141</td>\n",
       "      <td>141</td>\n",
       "      <td>141</td>\n",
       "    </tr>\n",
       "    <tr>\n",
       "      <th>Data Science</th>\n",
       "      <td>256</td>\n",
       "      <td>256</td>\n",
       "      <td>256</td>\n",
       "      <td>256</td>\n",
       "      <td>256</td>\n",
       "      <td>256</td>\n",
       "      <td>256</td>\n",
       "    </tr>\n",
       "    <tr>\n",
       "      <th>Ios Development</th>\n",
       "      <td>185</td>\n",
       "      <td>185</td>\n",
       "      <td>185</td>\n",
       "      <td>185</td>\n",
       "      <td>185</td>\n",
       "      <td>185</td>\n",
       "      <td>185</td>\n",
       "    </tr>\n",
       "    <tr>\n",
       "      <th>Machine Learning</th>\n",
       "      <td>260</td>\n",
       "      <td>260</td>\n",
       "      <td>260</td>\n",
       "      <td>260</td>\n",
       "      <td>260</td>\n",
       "      <td>260</td>\n",
       "      <td>260</td>\n",
       "    </tr>\n",
       "    <tr>\n",
       "      <th>Programming</th>\n",
       "      <td>195</td>\n",
       "      <td>195</td>\n",
       "      <td>195</td>\n",
       "      <td>195</td>\n",
       "      <td>195</td>\n",
       "      <td>195</td>\n",
       "      <td>195</td>\n",
       "    </tr>\n",
       "    <tr>\n",
       "      <th>Web Development</th>\n",
       "      <td>85</td>\n",
       "      <td>85</td>\n",
       "      <td>85</td>\n",
       "      <td>85</td>\n",
       "      <td>85</td>\n",
       "      <td>85</td>\n",
       "      <td>85</td>\n",
       "    </tr>\n",
       "    <tr>\n",
       "      <th rowspan=\"7\" valign=\"top\">2020</th>\n",
       "      <th>Android Development</th>\n",
       "      <td>109</td>\n",
       "      <td>109</td>\n",
       "      <td>109</td>\n",
       "      <td>109</td>\n",
       "      <td>109</td>\n",
       "      <td>109</td>\n",
       "      <td>109</td>\n",
       "    </tr>\n",
       "    <tr>\n",
       "      <th>Crytography</th>\n",
       "      <td>72</td>\n",
       "      <td>72</td>\n",
       "      <td>72</td>\n",
       "      <td>72</td>\n",
       "      <td>72</td>\n",
       "      <td>72</td>\n",
       "      <td>72</td>\n",
       "    </tr>\n",
       "    <tr>\n",
       "      <th>Data Science</th>\n",
       "      <td>297</td>\n",
       "      <td>297</td>\n",
       "      <td>297</td>\n",
       "      <td>297</td>\n",
       "      <td>297</td>\n",
       "      <td>297</td>\n",
       "      <td>297</td>\n",
       "    </tr>\n",
       "    <tr>\n",
       "      <th>Ios Development</th>\n",
       "      <td>108</td>\n",
       "      <td>108</td>\n",
       "      <td>108</td>\n",
       "      <td>108</td>\n",
       "      <td>108</td>\n",
       "      <td>108</td>\n",
       "      <td>108</td>\n",
       "    </tr>\n",
       "    <tr>\n",
       "      <th>Machine Learning</th>\n",
       "      <td>174</td>\n",
       "      <td>174</td>\n",
       "      <td>174</td>\n",
       "      <td>174</td>\n",
       "      <td>174</td>\n",
       "      <td>174</td>\n",
       "      <td>174</td>\n",
       "    </tr>\n",
       "    <tr>\n",
       "      <th>Programming</th>\n",
       "      <td>218</td>\n",
       "      <td>218</td>\n",
       "      <td>218</td>\n",
       "      <td>218</td>\n",
       "      <td>218</td>\n",
       "      <td>218</td>\n",
       "      <td>218</td>\n",
       "    </tr>\n",
       "    <tr>\n",
       "      <th>Web Development</th>\n",
       "      <td>126</td>\n",
       "      <td>126</td>\n",
       "      <td>126</td>\n",
       "      <td>126</td>\n",
       "      <td>126</td>\n",
       "      <td>126</td>\n",
       "      <td>126</td>\n",
       "    </tr>\n",
       "    <tr>\n",
       "      <th rowspan=\"7\" valign=\"top\">2021</th>\n",
       "      <th>Android Development</th>\n",
       "      <td>76</td>\n",
       "      <td>76</td>\n",
       "      <td>76</td>\n",
       "      <td>76</td>\n",
       "      <td>76</td>\n",
       "      <td>76</td>\n",
       "      <td>76</td>\n",
       "    </tr>\n",
       "    <tr>\n",
       "      <th>Crytography</th>\n",
       "      <td>145</td>\n",
       "      <td>145</td>\n",
       "      <td>145</td>\n",
       "      <td>145</td>\n",
       "      <td>145</td>\n",
       "      <td>145</td>\n",
       "      <td>145</td>\n",
       "    </tr>\n",
       "    <tr>\n",
       "      <th>Data Science</th>\n",
       "      <td>130</td>\n",
       "      <td>130</td>\n",
       "      <td>130</td>\n",
       "      <td>130</td>\n",
       "      <td>130</td>\n",
       "      <td>130</td>\n",
       "      <td>130</td>\n",
       "    </tr>\n",
       "    <tr>\n",
       "      <th>Ios Development</th>\n",
       "      <td>101</td>\n",
       "      <td>101</td>\n",
       "      <td>101</td>\n",
       "      <td>101</td>\n",
       "      <td>101</td>\n",
       "      <td>101</td>\n",
       "      <td>101</td>\n",
       "    </tr>\n",
       "    <tr>\n",
       "      <th>Machine Learning</th>\n",
       "      <td>44</td>\n",
       "      <td>44</td>\n",
       "      <td>44</td>\n",
       "      <td>44</td>\n",
       "      <td>44</td>\n",
       "      <td>44</td>\n",
       "      <td>44</td>\n",
       "    </tr>\n",
       "    <tr>\n",
       "      <th>Programming</th>\n",
       "      <td>145</td>\n",
       "      <td>145</td>\n",
       "      <td>145</td>\n",
       "      <td>145</td>\n",
       "      <td>145</td>\n",
       "      <td>145</td>\n",
       "      <td>145</td>\n",
       "    </tr>\n",
       "    <tr>\n",
       "      <th>Web Development</th>\n",
       "      <td>433</td>\n",
       "      <td>433</td>\n",
       "      <td>433</td>\n",
       "      <td>433</td>\n",
       "      <td>433</td>\n",
       "      <td>433</td>\n",
       "      <td>433</td>\n",
       "    </tr>\n",
       "  </tbody>\n",
       "</table>\n",
       "</div>"
      ],
      "text/plain": [
       "                         Statement Publication Read_Time  Year Claps comments  \\\n",
       "                             count       count     count count count    count   \n",
       "year category                                                                   \n",
       "2010 Web Development             1           1         1     1     1        1   \n",
       "2011 Ios Development             1           1         1     1     1        1   \n",
       "2012 Android Development         2           2         2     2     2        2   \n",
       "     Ios Development             4           4         4     4     4        4   \n",
       "     Web Development             1           1         1     1     1        1   \n",
       "2013 Programming                 2           2         2     2     2        2   \n",
       "2014 Android Development         2           2         2     2     2        2   \n",
       "     Data Science                1           1         1     1     1        1   \n",
       "     Ios Development             2           2         2     2     2        2   \n",
       "     Machine Learning            2           2         2     2     2        2   \n",
       "     Programming                 4           4         4     4     4        4   \n",
       "     Web Development             6           6         6     6     6        6   \n",
       "2015 Android Development        19          19        19    19    19       19   \n",
       "     Crytography                 3           3         3     3     3        3   \n",
       "     Data Science                6           6         6     6     6        6   \n",
       "     Ios Development            29          29        29    29    29       29   \n",
       "     Machine Learning            8           8         8     8     8        8   \n",
       "     Programming                12          12        12    12    12       12   \n",
       "     Web Development            13          13        13    13    13       13   \n",
       "2016 Android Development       122         122       122   122   122      122   \n",
       "     Crytography                36          36        36    36    36       36   \n",
       "     Data Science               17          17        17    17    17       17   \n",
       "     Ios Development            78          78        78    78    78       78   \n",
       "     Machine Learning           26          26        26    26    26       26   \n",
       "     Programming                53          53        53    53    53       53   \n",
       "     Web Development            31          31        31    31    31       31   \n",
       "2017 Android Development       239         239       239   239   239      239   \n",
       "     Crytography               170         170       170   170   170      170   \n",
       "     Data Science               64          64        64    64    64       64   \n",
       "     Ios Development           219         219       219   219   219      219   \n",
       "     Machine Learning          151         151       151   151   151      151   \n",
       "     Programming               125         125       125   125   125      125   \n",
       "     Web Development           102         102       102   102   102      102   \n",
       "2018 Android Development       291         291       291   291   291      291   \n",
       "     Crytography               414         414       414   414   414      414   \n",
       "     Data Science              222         222       222   222   222      222   \n",
       "     Ios Development           247         247       247   247   247      247   \n",
       "     Machine Learning          329         329       329   329   329      329   \n",
       "     Programming               193         193       193   193   193      193   \n",
       "     Web Development           109         109       109   109   109      109   \n",
       "2019 Android Development       120         120       120   120   120      120   \n",
       "     Crytography               141         141       141   141   141      141   \n",
       "     Data Science              256         256       256   256   256      256   \n",
       "     Ios Development           185         185       185   185   185      185   \n",
       "     Machine Learning          260         260       260   260   260      260   \n",
       "     Programming               195         195       195   195   195      195   \n",
       "     Web Development            85          85        85    85    85       85   \n",
       "2020 Android Development       109         109       109   109   109      109   \n",
       "     Crytography                72          72        72    72    72       72   \n",
       "     Data Science              297         297       297   297   297      297   \n",
       "     Ios Development           108         108       108   108   108      108   \n",
       "     Machine Learning          174         174       174   174   174      174   \n",
       "     Programming               218         218       218   218   218      218   \n",
       "     Web Development           126         126       126   126   126      126   \n",
       "2021 Android Development        76          76        76    76    76       76   \n",
       "     Crytography               145         145       145   145   145      145   \n",
       "     Data Science              130         130       130   130   130      130   \n",
       "     Ios Development           101         101       101   101   101      101   \n",
       "     Machine Learning           44          44        44    44    44       44   \n",
       "     Programming               145         145       145   145   145      145   \n",
       "     Web Development           433         433       433   433   433      433   \n",
       "\n",
       "                           tag  \n",
       "                         count  \n",
       "year category                   \n",
       "2010 Web Development         1  \n",
       "2011 Ios Development         1  \n",
       "2012 Android Development     2  \n",
       "     Ios Development         4  \n",
       "     Web Development         1  \n",
       "2013 Programming             2  \n",
       "2014 Android Development     2  \n",
       "     Data Science            1  \n",
       "     Ios Development         2  \n",
       "     Machine Learning        2  \n",
       "     Programming             4  \n",
       "     Web Development         6  \n",
       "2015 Android Development    19  \n",
       "     Crytography             3  \n",
       "     Data Science            6  \n",
       "     Ios Development        29  \n",
       "     Machine Learning        8  \n",
       "     Programming            12  \n",
       "     Web Development        13  \n",
       "2016 Android Development   122  \n",
       "     Crytography            36  \n",
       "     Data Science           17  \n",
       "     Ios Development        78  \n",
       "     Machine Learning       26  \n",
       "     Programming            53  \n",
       "     Web Development        31  \n",
       "2017 Android Development   239  \n",
       "     Crytography           170  \n",
       "     Data Science           64  \n",
       "     Ios Development       219  \n",
       "     Machine Learning      151  \n",
       "     Programming           125  \n",
       "     Web Development       102  \n",
       "2018 Android Development   291  \n",
       "     Crytography           414  \n",
       "     Data Science          222  \n",
       "     Ios Development       247  \n",
       "     Machine Learning      329  \n",
       "     Programming           193  \n",
       "     Web Development       109  \n",
       "2019 Android Development   120  \n",
       "     Crytography           141  \n",
       "     Data Science          256  \n",
       "     Ios Development       185  \n",
       "     Machine Learning      260  \n",
       "     Programming           195  \n",
       "     Web Development        85  \n",
       "2020 Android Development   109  \n",
       "     Crytography            72  \n",
       "     Data Science          297  \n",
       "     Ios Development       108  \n",
       "     Machine Learning      174  \n",
       "     Programming           218  \n",
       "     Web Development       126  \n",
       "2021 Android Development    76  \n",
       "     Crytography           145  \n",
       "     Data Science          130  \n",
       "     Ios Development       101  \n",
       "     Machine Learning       44  \n",
       "     Programming           145  \n",
       "     Web Development       433  "
      ]
     },
     "execution_count": 25,
     "metadata": {},
     "output_type": "execute_result"
    }
   ],
   "source": [
    "blogs_grouped"
   ]
  },
  {
   "cell_type": "markdown",
   "id": "87aefc9e",
   "metadata": {},
   "source": [
    "The year which saw the most articles in each category are:\n",
    "\n",
    "\n",
    "| | category #  | Year    | no of articles  \n",
    "|---:|:-------------|:-----------|:-----\n",
    "| 1 | Programming   | 2020     | 218  \n",
    "| 2 | Cryptography  | 2018    |414  \n",
    "| 3 | Machine Learning  | 2017   |329  \n",
    "| 4 | Web dev  | 2021    |433   \n",
    "| 5 | Android dev  | 2018    |291 \n",
    "| 6 | Ios dev  | 2018   |247  \n",
    "| 7 | data science  | 2020    |297  "
   ]
  },
  {
   "cell_type": "code",
   "execution_count": 26,
   "id": "a2837c86",
   "metadata": {},
   "outputs": [],
   "source": [
    "#lets calculate for year wise no of article for android dev\n",
    "\n",
    "Android_dev_yearwise = df[(df[\"tag\"] == \"Android Development\")].groupby([\"Year\"]).count()\n",
    "Web_dev_yearwise = df[(df[\"tag\"] == \"Web Development\")].groupby([\"Year\"]).count()\n",
    "Ios_dev_yearwise = df[(df[\"tag\"] == \"Ios Development\")].groupby([\"Year\"]).count()\n",
    "data_sci_yearwise = df[(df[\"tag\"] == \"Data Science\")].groupby([\"Year\"]).count()\n",
    "crypto_yearwise = df[(df[\"tag\"] == \"Crytography\")].groupby([\"Year\"]).count()\n",
    "ml_yearwise = df[(df[\"tag\"] == \"Machine Learning\")].groupby([\"Year\"]).count()\n",
    "prog_yearwise = df[(df[\"tag\"] == \"Programming\")].groupby([\"Year\"]).count()"
   ]
  },
  {
   "cell_type": "code",
   "execution_count": 27,
   "id": "26a1e4d3",
   "metadata": {},
   "outputs": [],
   "source": [
    "#dropping the necessary columns and keeping the ones needed\n",
    "\n",
    "Android_dev_yearwise.drop(columns=[\"Publication\", \"Read_Time\", \"Claps\", \"comments\", \"tag\"],inplace=True)\n",
    "Web_dev_yearwise.drop(columns=[\"Publication\", \"Read_Time\", \"Claps\", \"comments\", \"tag\"],inplace=True)\n",
    "Ios_dev_yearwise.drop(columns=[\"Publication\", \"Read_Time\", \"Claps\", \"comments\", \"tag\"],inplace=True)\n",
    "data_sci_yearwise.drop(columns=[\"Publication\", \"Read_Time\", \"Claps\", \"comments\", \"tag\"],inplace=True)\n",
    "crypto_yearwise.drop(columns=[\"Publication\", \"Read_Time\", \"Claps\", \"comments\", \"tag\"],inplace=True)\n",
    "ml_yearwise.drop(columns=[\"Publication\", \"Read_Time\", \"Claps\", \"comments\", \"tag\"],inplace=True)\n",
    "prog_yearwise.drop(columns=[\"Publication\", \"Read_Time\", \"Claps\", \"comments\", \"tag\"],inplace=True)"
   ]
  },
  {
   "cell_type": "code",
   "execution_count": 28,
   "id": "4ebe5fcf",
   "metadata": {},
   "outputs": [],
   "source": [
    "# changing the name of the column\n",
    "Android_dev_yearwise.columns = [\"No. of Articles\"]\n",
    "Web_dev_yearwise.columns = [\"No. of Articles\"]\n",
    "Ios_dev_yearwise.columns = [\"No. of Articles\"]\n",
    "data_sci_yearwise.columns = [\"No. of Articles\"]\n",
    "crypto_yearwise.columns = [\"No. of Articles\"]\n",
    "ml_yearwise.columns = [\"No. of Articles\"]\n",
    "prog_yearwise.columns = [\"No. of Articles\"]\n"
   ]
  },
  {
   "cell_type": "code",
   "execution_count": 29,
   "id": "534ababf",
   "metadata": {},
   "outputs": [],
   "source": [
    "# resetting the index of all of it\n",
    "Android_dev_yearwise = Android_dev_yearwise.reset_index()\n",
    "Web_dev_yearwise = Web_dev_yearwise.reset_index()\n",
    "Ios_dev_yearwise = Ios_dev_yearwise.reset_index()\n",
    "data_sci_yearwise = data_sci_yearwise.reset_index()\n",
    "crypto_yearwise = crypto_yearwise.reset_index()\n",
    "ml_yearwise = ml_yearwise.reset_index()\n",
    "prog_yearwise = prog_yearwise.reset_index()"
   ]
  },
  {
   "cell_type": "code",
   "execution_count": 30,
   "id": "8dafc3f2",
   "metadata": {},
   "outputs": [
    {
     "data": {
      "image/png": "[encoded data removed]",
      "text/plain": [
       "<Figure size 864x648 with 2 Axes>"
      ]
     },
     "metadata": {},
     "output_type": "display_data"
    },
    {
     "data": {
      "image/png": "[encoded data removed]",
      "text/plain": [
       "<Figure size 864x648 with 2 Axes>"
      ]
     },
     "metadata": {},
     "output_type": "display_data"
    },
    {
     "data": {
      "image/png": "[encoded data removed]",
      "text/plain": [
       "<Figure size 864x648 with 2 Axes>"
      ]
     },
     "metadata": {},
     "output_type": "display_data"
    }
   ],
   "source": [
    "#lets plot all of them to see the year-wise trend in the no. of articles\n",
    "\n",
    "\n",
    "fig, (ax1, ax2) = plt.subplots(1,2, figsize=(12,9))\n",
    "\n",
    "ind = np.arange(len(Android_dev_yearwise))\n",
    "width = 0.4\n",
    "plt.style.use(\"ggplot\")\n",
    "#fig1, ax1 = plt.subplots()\n",
    "ax1.barh(ind, Android_dev_yearwise[\"No. of Articles\"], width, color='red', label=\"No.of articles\")\n",
    "\n",
    "ax1.set(yticks=ind+width, yticklabels=Android_dev_yearwise[\"Year\"], ylim=[2*width-1, len(Android_dev_yearwise)])\n",
    "\n",
    "ax1.set_ylabel(\"Year\")\n",
    "ax1.set_xlabel(\"Count of the no of articles in that year\")\n",
    "ax1.set_title(\"No of articles by year for Android_dev\")\n",
    "ax1.legend()\n",
    "#fig1.set_size_inches(5, 5)\n",
    "\n",
    "#plt.show()\n",
    "\n",
    "\n",
    "\n",
    "\n",
    "#for web dev lets check the trend\n",
    "\n",
    "ind = np.arange(len(Web_dev_yearwise))\n",
    "width = 0.4\n",
    "plt.style.use(\"ggplot\")\n",
    "#fig1,ax1 = plt.subplots()\n",
    "ax2.barh(ind, Web_dev_yearwise[\"No. of Articles\"], width, color='green', label=\"No.of articles\")\n",
    "\n",
    "ax2.set(yticks=ind+width, yticklabels=Web_dev_yearwise[\"Year\"], ylim=[2*width-1, len(Web_dev_yearwise)])\n",
    "\n",
    "ax2.set_ylabel(\"Year\")\n",
    "ax2.set_xlabel(\"Count of the no of articles in that year\")\n",
    "ax2.set_title(\"No of articles by year for web dev\")\n",
    "ax2.legend()\n",
    "#fig1.set_size_inches(5, 5)\n",
    "plt.show()\n",
    "\n",
    "\n",
    "\n",
    "\n",
    "fig, (ax3, ax4) = plt.subplots(1,2, figsize=(12,9))\n",
    "\n",
    "\n",
    "#for ios development\n",
    "\n",
    "ind = np.arange(len(Ios_dev_yearwise))\n",
    "width = 0.4\n",
    "plt.style.use(\"ggplot\")\n",
    "#fig1, ax3 = plt.subplots()\n",
    "ax3.barh(ind, Ios_dev_yearwise[\"No. of Articles\"], width, color='blue', label=\"No.of articles\")\n",
    "\n",
    "ax3.set(yticks=ind+width, yticklabels=Ios_dev_yearwise[\"Year\"], ylim=[2*width-1, len(Ios_dev_yearwise)])\n",
    "\n",
    "ax3.set_ylabel(\"Year\")\n",
    "ax3.set_xlabel(\"Count of the no of articles in that year\")\n",
    "ax3.set_title(\"No of articles by year for ios development\")\n",
    "ax3.legend()\n",
    "#fig1.set_size_inches(5, 5)\n",
    "#plt.show()\n",
    "\n",
    "\n",
    "\n",
    "#for ml\n",
    "\n",
    "ind = np.arange(len(ml_yearwise))\n",
    "width = 0.4\n",
    "plt.style.use(\"ggplot\")\n",
    "#fig1, ax1 = plt.subplots()\n",
    "ax4.barh(ind, ml_yearwise[\"No. of Articles\"], width, color='black', label=\"No.of articles\")\n",
    "\n",
    "ax4.set(yticks=ind+width, yticklabels = ml_yearwise[\"Year\"], ylim=[2*width-1, len(ml_yearwise)])\n",
    "\n",
    "ax4.set_ylabel(\"Year\")\n",
    "ax4.set_xlabel(\"Count of the no of articles in that year\")\n",
    "ax4.set_title(\"No of articles by year for machine learning\")\n",
    "ax4.legend()\n",
    "#fig1.set_size_inches(5, 5)\n",
    "plt.show()\n",
    "\n",
    "\n",
    "\n",
    "#for crypto\n",
    "\n",
    "\n",
    "\n",
    "\n",
    "fig, (ax5, ax6) = plt.subplots(1,2, figsize=(12,9))\n",
    "\n",
    "ind = np.arange(len(crypto_yearwise))\n",
    "width = 0.4\n",
    "plt.style.use(\"ggplot\")\n",
    "#fig1, ax1 = plt.subplots()\n",
    "ax5.barh(ind, crypto_yearwise[\"No. of Articles\"], width, color='brown', label=\"No.of articles\")\n",
    "\n",
    "ax5.set(yticks=ind+width, yticklabels = crypto_yearwise[\"Year\"], ylim=[2*width-1, len(crypto_yearwise)])\n",
    "\n",
    "ax5.set_ylabel(\"Year\")\n",
    "ax5.set_xlabel(\"Count of the no of articles in that year\")\n",
    "ax5.set_title(\"No of articles by year for cryptography\")\n",
    "ax5.legend()\n",
    "#fig1.set_size_inches(5, 5)\n",
    "#plt.show()\n",
    "\n",
    "#for programming\n",
    "\n",
    "ind = np.arange(len(prog_yearwise))\n",
    "width = 0.4\n",
    "plt.style.use(\"ggplot\")\n",
    "#fig1, ax1 = plt.subplots()\n",
    "ax6.barh(ind, prog_yearwise[\"No. of Articles\"], width, color='skyblue', label=\"No.of articles\")\n",
    "\n",
    "ax6.set(yticks=ind+width, yticklabels = prog_yearwise[\"Year\"], ylim=[2*width-1, len(prog_yearwise)])\n",
    "\n",
    "ax6.set_ylabel(\"Year\")\n",
    "ax6.set_xlabel(\"Count of the no of articles in that year\")\n",
    "ax6.set_title(\"No of articles by year for programming\")\n",
    "ax6.legend()\n",
    "#fig1.set_size_inches(5, 5)\n",
    "plt.show()\n",
    "\n",
    "\n"
   ]
  },
  {
   "cell_type": "code",
   "execution_count": 31,
   "id": "c24daf84",
   "metadata": {},
   "outputs": [
    {
     "data": {
      "image/png": "[encoded data removed]",
      "text/plain": [
       "<Figure size 360x360 with 1 Axes>"
      ]
     },
     "metadata": {},
     "output_type": "display_data"
    }
   ],
   "source": [
    "\n",
    "#for data_sci\n",
    "\n",
    "\n",
    "\n",
    "\n",
    "ind = np.arange(len(data_sci_yearwise))\n",
    "width = 0.4\n",
    "plt.style.use(\"ggplot\")\n",
    "fig1, ax8 = plt.subplots()\n",
    "ax8.barh(ind, data_sci_yearwise[\"No. of Articles\"], width, color='violet', label=\"No.of articles\")\n",
    "\n",
    "ax8.set(yticks=ind+width, yticklabels=data_sci_yearwise[\"Year\"], ylim=[2*width-1, len(data_sci_yearwise)])\n",
    "\n",
    "ax8.set_ylabel(\"Year\")\n",
    "ax8.set_xlabel(\"Count of the no of articles in that year\")\n",
    "ax8.set_title(\"No of articles by year for data science\")\n",
    "ax8.legend()\n",
    "fig1.set_size_inches(5, 5)\n",
    "\n",
    "plt.show()\n"
   ]
  },
  {
   "cell_type": "markdown",
   "id": "c504fc4d",
   "metadata": {},
   "source": [
    "* Android dev,Ios dev,Machine learning saw increase in the no of the articles from 2016 to 2018 then the no of article began decreasing.there is a considerable decrease in the no. of articles written in cryptography which may be caused due to the complexity of the topic and not many people chose to write about it.\n",
    "\n",
    "* However web development saw a steep increase right from 2010 till current year, which is evitable because of the advent of lot of frontend as well as backend frameworks along with languages like javascript, python getting popular in recent years.\n",
    "\n",
    "* Between programming and data science ,the no have massively increased from 50-60 articles a year in 2016 to 150-200 articles in recent years.Its almost 4x increase in the no."
   ]
  },
  {
   "cell_type": "code",
   "execution_count": 32,
   "id": "9e099490",
   "metadata": {},
   "outputs": [
    {
     "data": {
      "text/plain": [
       "<matplotlib.collections.PathCollection at 0x7f740a609790>"
      ]
     },
     "execution_count": 32,
     "metadata": {},
     "output_type": "execute_result"
    },
    {
     "data": {
      "image/png": "[encoded data removed]",
      "text/plain": [
       "<Figure size 432x288 with 1 Axes>"
      ]
     },
     "metadata": {},
     "output_type": "display_data"
    }
   ],
   "source": [
    "# to see if the readtime and claps have any relationship in between them, lets make use of a scatter plot\n",
    "\n",
    "x = df[\"Read_Time\"]\n",
    "y = df[\"Claps\"]\n",
    "plt.scatter(x,y)"
   ]
  },
  {
   "cell_type": "markdown",
   "id": "b18d3972",
   "metadata": {},
   "source": [
    "There is no relationship between no. of claps and read time of an article and by common sense also its true"
   ]
  },
  {
   "cell_type": "code",
   "execution_count": null,
   "id": "1ca37f61",
   "metadata": {},
   "outputs": [],
   "source": [
    " \n",
    "   "
   ]
  },
  {
   "cell_type": "code",
   "execution_count": null,
   "id": "6c63ba95",
   "metadata": {},
   "outputs": [],
   "source": []
  },
  {
   "cell_type": "code",
   "execution_count": null,
   "id": "a980755b",
   "metadata": {},
   "outputs": [],
   "source": []
  },
  {
   "cell_type": "code",
   "execution_count": null,
   "id": "6a5dcdf9",
   "metadata": {},
   "outputs": [],
   "source": []
  },
  {
   "cell_type": "code",
   "execution_count": null,
   "id": "67b7782b",
   "metadata": {},
   "outputs": [],
   "source": []
  },
  {
   "cell_type": "code",
   "execution_count": null,
   "id": "ae03b4c2",
   "metadata": {},
   "outputs": [],
   "source": []
  },
  {
   "cell_type": "code",
   "execution_count": null,
   "id": "54c19a8f",
   "metadata": {},
   "outputs": [],
   "source": []
  }
 ],
 "metadata": {
  "kernelspec": {
   "display_name": "Python 3",
   "language": "python",
   "name": "python3"
  },
  "language_info": {
   "codemirror_mode": {
    "name": "ipython",
    "version": 3
   },
   "file_extension": ".py",
   "mimetype": "text/x-python",
   "name": "python",
   "nbconvert_exporter": "python",
   "pygments_lexer": "ipython3",
   "version": "3.8.5"
  }
 },
 "nbformat": 4,
 "nbformat_minor": 5
}
